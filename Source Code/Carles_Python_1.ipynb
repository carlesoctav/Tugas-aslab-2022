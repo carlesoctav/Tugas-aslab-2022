{
 "cells": [
  {
   "cell_type": "code",
   "execution_count": 4,
   "metadata": {},
   "outputs": [],
   "source": [
    "from collections import defaultdict"
   ]
  },
  {
   "cell_type": "code",
   "execution_count": 5,
   "metadata": {},
   "outputs": [],
   "source": [
    "Airports = [\"LJR\", \"CDG\", \"HKG\", \"DXB\", \"AMS\", \"FRA\", \"SIN\", \"BKK\", \"ICN\", \"MAD\", \"NRT\",\n",
    "\"KUL\", \"FCO\", \"JFK\", \"IST\", \"ZRH\", \"TPE\", \"BCN\", \"DUB\", \"DOH\"]\n",
    "\n",
    "Routes =[[\"DOH\", \"ZRH\"], [\"ZRH\", \"KUL\"], [\"KUL\", \"DOH\"], [\"KUL\", \"HKG\"], [\"HKG\", \"DXB\"],\n",
    "[\"HKG\", \"AMS\"], [\"AMS\", \"FRA\"], [\"FRA\", \"SIN\"], [\"FRA\", \"BKK\"], [\"SIN\", \"ICN \"], [\"BKK\", \"ICN\"],\n",
    "[\"ICN\", \"BCN\"], [\"BCN\", \"DXB\"], [\"DXB\", \"TPE\"], [\"DXB\", \"LJR\"], [\"TPE\", \"LJR\"], [\"LJR\", \"CDG\"],\n",
    "[\"CDG\",\"DUB\"], [\"DUB\", \"MAD\"], [\"MAD\", \"NRT\"], [\"NRT\", \"CDG\"], [\"CDG\", \"ZRH\"], [\"BCN\",\n",
    "\"JFK\"], [\"JFK\", \"IST\"], [\"IST\", \"FCO\"], [\"FCO\", \"MAD\"]]"
   ]
  },
  {
   "cell_type": "code",
   "execution_count": 8,
   "metadata": {},
   "outputs": [],
   "source": [
    "def solve(v_list,e_list,start,end):\n",
    "    \"\"\" mencari jarak terpendek dari node start ke node end\n",
    "        jika diberikan vertices_list (v_list) dan edge_list (e_list).\n",
    "\n",
    "        jika tidak ada lintasan dari start ke end, fungsi akan mengembalikan -1 sebagai hasilnya\n",
    "    \"\"\"\n",
    "\n",
    "    #membuat adjecancy_list\n",
    "    adj=defaultdict(list)\n",
    "    for u,v in e_list:\n",
    "        adj[u]+=[v]\n",
    "\n",
    "    visited=[] # list node yang sudah dikunjungi\n",
    "    queue=[(0,start)] #queue (dengan element(jarak, node)) untuk proses bfs\n",
    "\n",
    "    #proses bfs dilakukan\n",
    "    while queue:\n",
    "        dist, node= queue.pop(0) #pop first element\n",
    "        if node==end: #jika sudah sampai posisi end return jaraknya\n",
    "            return dist\n",
    "        if node in visited: #jika sudah dikunjungi lanjutkan ke proses ke node lain\n",
    "            continue\n",
    "\n",
    "        visited.append(node) # tandai nodesudah dikunjungi\n",
    "        for nxt_node in adj[node]: #kunjungi setiap node tetangga\n",
    "           queue.append((dist+1,nxt_node))\n",
    "    return -1\n"
   ]
  },
  {
   "cell_type": "code",
   "execution_count": 9,
   "metadata": {},
   "outputs": [
    {
     "data": {
      "text/plain": [
       "2"
      ]
     },
     "execution_count": 9,
     "metadata": {},
     "output_type": "execute_result"
    }
   ],
   "source": [
    "solve(Airports, Routes, \"DOH\",\"KUL\")\n"
   ]
  },
  {
   "cell_type": "code",
   "execution_count": null,
   "metadata": {},
   "outputs": [],
   "source": []
  }
 ],
 "metadata": {
  "kernelspec": {
   "display_name": "Python 3.10.1 64-bit",
   "language": "python",
   "name": "python3"
  },
  "language_info": {
   "codemirror_mode": {
    "name": "ipython",
    "version": 3
   },
   "file_extension": ".py",
   "mimetype": "text/x-python",
   "name": "python",
   "nbconvert_exporter": "python",
   "pygments_lexer": "ipython3",
   "version": "3.10.1"
  },
  "orig_nbformat": 4,
  "vscode": {
   "interpreter": {
    "hash": "fb4569285eef3a3450cb62085a5b1e0da4bce0af555edc33dcf29baf3acc1368"
   }
  }
 },
 "nbformat": 4,
 "nbformat_minor": 2
}
