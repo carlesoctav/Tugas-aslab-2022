{
 "cells": [
  {
   "cell_type": "code",
   "execution_count": 1,
   "metadata": {},
   "outputs": [],
   "source": [
    "Airports = [\"LJR\", \"CDG\", \"HKG\", \"DXB\", \"AMS\", \"FRA\", \"SIN\", \"BKK\", \"ICN\", \"MAD\", \"NRT\",\n",
    "\"KUL\", \"FCO\", \"JFK\", \"IST\", \"ZRH\", \"TPE\", \"BCN\", \"DUB\", \"DOH\"]\n",
    "\n",
    "Routes =[[\"DOH\", \"ZRH\"], [\"ZRH\", \"KUL\"], [\"KUL\", \"DOH\"], [\"KUL\", \"HKG\"], [\"HKG\", \"DXB\"],\n",
    "[\"HKG\", \"AMS\"], [\"AMS\", \"FRA\"], [\"FRA\", \"SIN\"], [\"FRA\", \"BKK\"], [\"SIN\", \"ICN \"], [\"BKK\", \"ICN\"],\n",
    "[\"ICN\", \"BCN\"], [\"BCN\", \"DXB\"], [\"DXB\", \"TPE\"], [\"DXB\", \"LJR\"], [\"TPE\", \"LJR\"], [\"LJR\", \"CDG\"],\n",
    "[\"CDG\",\"DUB\"], [\"DUB\", \"MAD\"], [\"MAD\", \"NRT\"], [\"NRT\", \"CDG\"], [\"CDG\", \"ZRH\"], [\"BCN\",\n",
    "\"JFK\"], [\"JFK\", \"IST\"], [\"IST\", \"FCO\"], [\"FCO\", \"MAD\"]]"
   ]
  },
  {
   "cell_type": "code",
   "execution_count": 14,
   "metadata": {},
   "outputs": [],
   "source": [
    "def solve(v_list,e_list,start,end):\n",
    "    adj=defaultdict(list)\n",
    "    for u,v in e_list:\n",
    "        adj[u]+=[v]\n",
    "    print(adj)\n",
    "    visited=[]\n",
    "    queue=[(0,start)]\n",
    "    while queue:\n",
    "        dist, node= queue.pop(0)\n",
    "        if node==end:\n",
    "            return dist\n",
    "        if node in visited:\n",
    "            continue\n",
    "\n",
    "        visited.append(node)\n",
    "\n",
    "        for nxt_node in adj[node]:\n",
    "           queue.append((dist+1,nxt_node))\n",
    "    return -1\n"
   ]
  }
 ],
 "metadata": {
  "kernelspec": {
   "display_name": "Python 3.10.1 64-bit",
   "language": "python",
   "name": "python3"
  },
  "language_info": {
   "codemirror_mode": {
    "name": "ipython",
    "version": 3
   },
   "file_extension": ".py",
   "mimetype": "text/x-python",
   "name": "python",
   "nbconvert_exporter": "python",
   "pygments_lexer": "ipython3",
   "version": "3.10.1"
  },
  "orig_nbformat": 4,
  "vscode": {
   "interpreter": {
    "hash": "fb4569285eef3a3450cb62085a5b1e0da4bce0af555edc33dcf29baf3acc1368"
   }
  }
 },
 "nbformat": 4,
 "nbformat_minor": 2
}
