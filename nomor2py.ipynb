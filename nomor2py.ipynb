{
 "cells": [
  {
   "cell_type": "code",
   "execution_count": 1,
   "metadata": {},
   "outputs": [],
   "source": [
    "import random as rng"
   ]
  },
  {
   "cell_type": "code",
   "execution_count": 2,
   "metadata": {},
   "outputs": [],
   "source": [
    "\"\"\" \n",
    "membuat 8x8 board dari 0 sampai 63 secara berurutan\n",
    "\"\"\"\n",
    "public_board=[]\n",
    "base=0\n",
    "for i in range (8):\n",
    "    public_board.append([base+i for i in range (8)])\n",
    "    base+=8\n",
    "\n",
    "\"\"\" \n",
    "membagi board menjadi 6 region pada papan untuk meng-encode 6bit data.\n",
    "(terlihat hanya ada 3 region yang ditulis karena region 3--5 simetri terhadap region 0--2)\n",
    "\"\"\"\n",
    "region_0=[1,3,5,7]\n",
    "region_1=[2,3,6,7]\n",
    "region_2=[4,5,6,7]\n",
    "total_region=[region_0, region_1, region_2]\n"
   ]
  },
  {
   "cell_type": "code",
   "execution_count": 12,
   "metadata": {},
   "outputs": [],
   "source": [
    "def randomboard():\n",
    "    \"\"\" \n",
    "    membuat random board dan random key\n",
    "    \"\"\"\n",
    "    board=[[rng.randint(0,1)for j in range (8)] for i in range(8)]\n",
    "    key= [rng.randint(0,7), rng.randint(0,7)]\n",
    "    return board, key\n",
    "\n",
    "def get_index(matrix, number):\n",
    "    \"\"\"\n",
    "    fungsi mencari index pertama dari suatu element pada matrix\n",
    "    \"\"\"\n",
    "    x = [x for x in matrix if number in x][0]\n",
    "    return matrix.index(x), x.index(number)\n",
    "\n",
    "def bit_counter_strat(board):\n",
    "\n",
    "    \"\"\"program untuk melakukan strategi peng-encodingan papan,\n",
    "    setiap sembarang susunan papan akan dimapping ke {0,1, ..., 63}\n",
    "    \"\"\"\n",
    "    encode_for=\"\"\n",
    "    for i in total_region:\n",
    "        Σ=0\n",
    "        for j in i:\n",
    "            for k in range (8):\n",
    "                Σ+=board[k][j]\n",
    "        if Σ%2==0:\n",
    "            encode_for='0'+encode_for\n",
    "        else:\n",
    "            encode_for='1'+encode_for\n",
    "    \n",
    "    for i in total_region:\n",
    "        Σ=0\n",
    "        for j in i:\n",
    "            for k in range (8):\n",
    "                Σ+=board[j][k]\n",
    "        if Σ%2==0:\n",
    "            encode_for='0'+encode_for\n",
    "        else:\n",
    "            encode_for='1'+encode_for\n",
    "\n",
    "    \n",
    "    return int(encode_for,2)\n",
    "\n",
    "def informant(board, key):\n",
    "    \"\"\"melakukan 1  flip coin pada papan (dengan strategi) sehingga menghasilkan papan baru\n",
    "    yang telah mengandung informasi mengenai lokasi kunci\n",
    "    \"\"\"\n",
    "    num_encode=bit_counter_strat(board)\n",
    "    num_key= public_board[key[0]][key[1]]\n",
    "    xor_num= num_encode ^ num_key\n",
    "    row, column = get_index(public_board,xor_num)\n",
    "    board[row][column]= 1-board[row][column]\n",
    "    return board\n",
    "\n",
    "def guess(board):\n",
    "\n",
    "    \"\"\" melakukan decode mengenai lokasi informasi kunci pada papan yang sudah dilakukan flip\n",
    "        coin\n",
    "    \"\"\"\n",
    "    num_encode=bit_counter_strat(board)\n",
    "    print(get_index(public_board, num_encode))"
   ]
  },
  {
   "cell_type": "code",
   "execution_count": 13,
   "metadata": {},
   "outputs": [],
   "source": [
    "test_board, test_key= randomboard()\n",
    "test_board, test_key"
   ]
  },
  {
   "cell_type": "code",
   "execution_count": 15,
   "metadata": {},
   "outputs": [
    {
     "name": "stdout",
     "output_type": "stream",
     "text": [
      "(0, 6)\n"
     ]
    }
   ],
   "source": [
    "changed_board= informant(test_board, test_key)\n",
    "guess(changed_board)"
   ]
  },
  {
   "cell_type": "code",
   "execution_count": null,
   "metadata": {},
   "outputs": [],
   "source": []
  }
 ],
 "metadata": {
  "kernelspec": {
   "display_name": "Python 3.10.1 64-bit",
   "language": "python",
   "name": "python3"
  },
  "language_info": {
   "codemirror_mode": {
    "name": "ipython",
    "version": 3
   },
   "file_extension": ".py",
   "mimetype": "text/x-python",
   "name": "python",
   "nbconvert_exporter": "python",
   "pygments_lexer": "ipython3",
   "version": "3.10.1"
  },
  "orig_nbformat": 4,
  "vscode": {
   "interpreter": {
    "hash": "fb4569285eef3a3450cb62085a5b1e0da4bce0af555edc33dcf29baf3acc1368"
   }
  }
 },
 "nbformat": 4,
 "nbformat_minor": 2
}
