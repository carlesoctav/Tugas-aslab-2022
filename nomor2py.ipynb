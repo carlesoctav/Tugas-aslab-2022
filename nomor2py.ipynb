{
 "cells": [
  {
   "cell_type": "code",
   "execution_count": 36,
   "metadata": {},
   "outputs": [],
   "source": [
    "import random as rng"
   ]
  },
  {
   "cell_type": "code",
   "execution_count": 114,
   "metadata": {},
   "outputs": [],
   "source": [
    "public_board=[]\n",
    "base=0\n",
    "for i in range (8):\n",
    "    public_board.append([base+i for i in range (8)])\n",
    "    base+=8\n",
    "\n",
    "region_0=[1,3,5,7]\n",
    "region_1=[2,3,6,7]\n",
    "region_2=[4,5,6,7]\n",
    "total_region=[region_0, region_1, region_2]\n"
   ]
  },
  {
   "cell_type": "code",
   "execution_count": 143,
   "metadata": {},
   "outputs": [],
   "source": [
    "def randomboard():\n",
    "    board=[[rng.randint(0,1)for j in range (8)] for i in range(8)]\n",
    "    key= [rng.randint(0,7), rng.randint(0,7)]\n",
    "    return board, key\n",
    "\n",
    "def get_index(matrix, number):\n",
    "    x = [x for x in matrix if number in x][0]\n",
    "    print(x)\n",
    "    return matrix.index(x), x.index(number)\n",
    "\n",
    "def bit_counter_strat(board):\n",
    "    encode_for=\"\"\n",
    "    for i in total_region:\n",
    "        Σ=0\n",
    "        for j in i:\n",
    "            for k in range (8):\n",
    "                Σ+=board[k][j]\n",
    "        if Σ%2==0:\n",
    "            encode_for='0'+encode_for\n",
    "        else:\n",
    "            encode_for='1'+encode_for\n",
    "    \n",
    "    for i in total_region:\n",
    "        Σ=0\n",
    "        for j in i:\n",
    "            for k in range (8):\n",
    "                Σ+=board[j][k]\n",
    "        if Σ%2==0:\n",
    "            encode_for='0'+encode_for\n",
    "        else:\n",
    "            encode_for='1'+encode_for\n",
    "\n",
    "    \n",
    "    return int(encode_for,2)\n",
    "\n",
    "def informant(board, key):\n",
    "    num_encode=bit_counter_strat(board)\n",
    "    num_key= public_board[key[0]][key[1]]\n",
    "    xor_num= num_encode ^ num_key\n",
    "    print(xor_num)\n",
    "    row, column = get_index(public_board,xor_num)\n",
    "    board[row][column]= 1-board[row][column]\n",
    "    return board\n",
    "\n",
    "def guess(board):\n",
    "    num_encode=bit_counter_strat(board)\n",
    "    print(get_index(public_board, num_encode))"
   ]
  },
  {
   "cell_type": "code",
   "execution_count": 144,
   "metadata": {},
   "outputs": [],
   "source": [
    "new_board=[\n",
    "[0,0,1,1,0,0,1,1],\n",
    "[0,1,1,0,0,0,1,0],\n",
    "[0,0,1,1,0,0,0,1],\n",
    "[0,1,1,0,0,0,1,0],\n",
    "[0,0,1,0,0,0,0,0],\n",
    "[0,0,1,0,0,0,0,0],\n",
    "[0,0,1,1,1,0,1,0],\n",
    "[0,0,1,0,1,0,0,1]\n",
    "]"
   ]
  },
  {
   "cell_type": "code",
   "execution_count": 145,
   "metadata": {},
   "outputs": [
    {
     "data": {
      "text/plain": [
       "52"
      ]
     },
     "execution_count": 145,
     "metadata": {},
     "output_type": "execute_result"
    }
   ],
   "source": [
    "bit_counter_strat(new_board)"
   ]
  },
  {
   "cell_type": "code",
   "execution_count": 149,
   "metadata": {},
   "outputs": [],
   "source": [
    "test_board, test_key= randomboard()asdfS"
   ]
  },
  {
   "cell_type": "code",
   "execution_count": 150,
   "metadata": {},
   "outputs": [
    {
     "data": {
      "text/plain": [
       "([[1, 0, 0, 1, 1, 1, 1, 1],\n",
       "  [0, 0, 0, 0, 0, 0, 0, 0],\n",
       "  [1, 1, 1, 1, 0, 1, 0, 0],\n",
       "  [0, 0, 0, 0, 0, 0, 1, 1],\n",
       "  [1, 0, 1, 0, 1, 1, 0, 0],\n",
       "  [0, 0, 0, 1, 0, 0, 0, 1],\n",
       "  [1, 1, 1, 1, 1, 1, 0, 1],\n",
       "  [1, 1, 0, 1, 0, 0, 1, 1]],\n",
       " [3, 2])"
      ]
     },
     "execution_count": 150,
     "metadata": {},
     "output_type": "execute_result"
    }
   ],
   "source": [
    "test_board, test_key"
   ]
  },
  {
   "cell_type": "code",
   "execution_count": 152,
   "metadata": {},
   "outputs": [
    {
     "name": "stdout",
     "output_type": "stream",
     "text": [
      "7\n",
      "[0, 1, 2, 3, 4, 5, 6, 7]\n",
      "[24, 25, 26, 27, 28, 29, 30, 31]\n",
      "(3, 2)\n"
     ]
    }
   ],
   "source": [
    "changed_board= informant(test_board, test_key)\n",
    "guess(changed_board)"
   ]
  },
  {
   "cell_type": "code",
   "execution_count": null,
   "metadata": {},
   "outputs": [],
   "source": []
  }
 ],
 "metadata": {
  "kernelspec": {
   "display_name": "Python 3.10.1 64-bit",
   "language": "python",
   "name": "python3"
  },
  "language_info": {
   "codemirror_mode": {
    "name": "ipython",
    "version": 3
   },
   "file_extension": ".py",
   "mimetype": "text/x-python",
   "name": "python",
   "nbconvert_exporter": "python",
   "pygments_lexer": "ipython3",
   "version": "3.10.1"
  },
  "orig_nbformat": 4,
  "vscode": {
   "interpreter": {
    "hash": "fb4569285eef3a3450cb62085a5b1e0da4bce0af555edc33dcf29baf3acc1368"
   }
  }
 },
 "nbformat": 4,
 "nbformat_minor": 2
}
